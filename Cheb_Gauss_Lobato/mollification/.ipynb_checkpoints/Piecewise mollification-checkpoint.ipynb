{
 "cells": [
  {
   "cell_type": "markdown",
   "metadata": {},
   "source": [
    "# Piecewise mollification\n",
    "\n",
    "$Blah\\ blah\\ $"
   ]
  },
  {
   "cell_type": "code",
   "execution_count": 1,
   "metadata": {},
   "outputs": [],
   "source": [
    "from scipy.optimize import curve_fit\n",
    "from __future__ import print_function\n",
    "\n",
    "import os, sys\n",
    "import numpy as np\n",
    "import scipy as sp\n",
    "from numpy import sin, cos, exp, log, log10, pi, absolute, power, sqrt\n",
    "from numpy.polynomial import chebyshev as T\n",
    "from numpy.polynomial import hermite_e as H\n",
    "from scipy.integrate import quad\n",
    "from scipy.misc import factorial\n",
    "import matplotlib as mpl\n",
    "import matplotlib.pyplot as plt\n",
    "%matplotlib inline\n",
    "from spectral_tools import Decompose, ModalD, NodalD, Vandermonde\n",
    "from edgedetect import ChebEdgeIII, ConfigurePlots, Enhance, LocateEdges, MinMod"
   ]
  },
  {
   "cell_type": "code",
   "execution_count": 2,
   "metadata": {
    "collapsed": true
   },
   "outputs": [],
   "source": [
    "N = 32\n",
    "x = np.linspace(-1.0, 1.0, 2001)\n",
    "c2s, s2c = Vandermonde(N)\n",
    "modalD = ModalD(c2s)"
   ]
  },
  {
   "cell_type": "code",
   "execution_count": 3,
   "metadata": {
    "collapsed": true
   },
   "outputs": [],
   "source": [
    "step_loc1 = -0.4\n",
    "width1 = 1.0\n",
    "chi1 = lambda x: 1.0 if (x>=step_loc1 and x<=(step_loc1+width1)) else 0\n",
    "a_n1 = Decompose(chi1, c2s)\n",
    "I_N1 = T.chebval(x, a_n1)\n",
    "c_j1 = LocateEdges(a_n1, x, modalD)\n",
    "chi1_x = np.frompyfunc(chi1, 1, 1)(x)\n",
    "\n",
    "step_loc2 = 0.5\n",
    "width2 = 1.0\n",
    "chi2 = lambda x: 1.0 if (x>=step_loc2 and x<=(step_loc2+width2)) else 0\n",
    "a_n2 = Decompose(chi2, c2s)\n",
    "I_N2 = T.chebval(x, a_n2)\n",
    "c_j2 = LocateEdges(a_n2, x, modalD)\n",
    "chi2_x = np.frompyfunc(chi2, 1, 1)(x)"
   ]
  },
  {
   "cell_type": "code",
   "execution_count": 4,
   "metadata": {
    "collapsed": true
   },
   "outputs": [],
   "source": [
    "ConfigurePlots()"
   ]
  },
  {
   "cell_type": "code",
   "execution_count": 5,
   "metadata": {
    "collapsed": true
   },
   "outputs": [],
   "source": [
    "def MollifyQuad(theta, c_j, a_n, x):\n",
    "    \n",
    "    N = a_n.shape[0]-1\n",
    "    sanity_check = np.empty(len(x))\n",
    "    mollified = np.array([])\n",
    "    mollified_err = np.array([])\n",
    "    \n",
    "    I_N = lambda y: T.chebval(y, a_n)\n",
    "    chi_top = lambda y,f : f(y) if -1 <= y <= 1 else 0\n",
    "    I_N_top = lambda y: chi_top(y, I_N)\n",
    "    c_jplus = np.append(c_j, 1.0)\n",
    "    \n",
    "    for idx_c, pos in enumerate(c_jplus):\n",
    "        \n",
    "        if idx_c == 0:\n",
    "            \n",
    "            lim_left = -1.0\n",
    "            lim_right = pos\n",
    "            \n",
    "            offset = np.ma.masked_where(x > lim_right, x)\n",
    "            offset = np.ma.compressed(offset)\n",
    "\n",
    "        else:\n",
    "            \n",
    "            lim_left = c_jplus[idx_c-1]\n",
    "            lim_right = pos\n",
    "            \n",
    "            offset = np.ma.masked_where(x > lim_right, x)\n",
    "            offset = np.ma.masked_where(x <= lim_left, offset)\n",
    "            offset = np.ma.compressed(offset)\n",
    "\n",
    "        chi_cut = lambda y,f : f(y) if lim_left <= y <= lim_right else 0\n",
    "        convolution = np.empty(len(offset))\n",
    "        convolution_err = np.empty(len(offset))\n",
    "\n",
    "        for idx_o, off_x in enumerate(offset):\n",
    "            c_jx = c_j - off_x\n",
    "            dx = lambda y: sqrt(theta*N*min(abs(y-c) for c in c_jx))\n",
    "            var = lambda y: N/(2*theta*dx(y))\n",
    "            p_N = lambda y: (theta**2)*dx(y)*N\n",
    "            j_max = int(np.amax(np.frompyfunc(p_N,1,1)(x)))\n",
    "            h_j = np.zeros(2*(j_max+1))\n",
    "    \n",
    "            for j in range(j_max+1):\n",
    "                h_j[2*j] = ((-1)**j)/((4**j)*factorial(j))\n",
    "    \n",
    "            hermite = lambda y: H.hermeval(sqrt(var(y))*y, h_j)\n",
    "            expon = lambda y: (1./sqrt(theta*N*dx(y)))*exp(-var(y)*(y**2))\n",
    "            phi0 = lambda y: hermite(y)*expon(y)\n",
    "            phi_off = lambda y: phi0(y-off_x)\n",
    "            phi = lambda y: chi_cut(y, phi_off)\n",
    "            norm = quad(phi, lim_left, lim_right)[0]\n",
    "        \n",
    "            convfunc = lambda y: (1/norm)*(phi(y) * I_N_top(y))\n",
    "            convolution[idx_o], convolution_err[idx_o] = quad(convfunc, lim_left, lim_right)\n",
    "            \n",
    "        mollified = np.append(mollified, convolution)\n",
    "        mollified_err = np.append(mollified_err, convolution_err)\n",
    "        \n",
    "    assert mollified.shape == sanity_check.shape, \"Piecewise mollification inconsistent with regular one\"\n",
    "    assert mollified_err.shape == sanity_check.shape, \"Piecewise mollification inconsistent with regular one\"\n",
    "\n",
    "    return mollified, mollified_err\n"
   ]
  },
  {
   "cell_type": "markdown",
   "metadata": {},
   "source": [
    "# N=32 piecewise mollification"
   ]
  },
  {
   "cell_type": "code",
   "execution_count": null,
   "metadata": {},
   "outputs": [],
   "source": [
    "theta = 1./4.\n",
    "mollified1_32, mollified1_err_32 = MollifyQuad(theta, c_j1, a_n1, x)\n",
    "mollified2_32, mollified1_err_32 = MollifyQuad(theta, c_j2, a_n2, x)\n",
    "error1_32 = absolute(mollified1_32 - chi1_x)\n",
    "error2_32 = absolute(mollified2_32 - chi2_x)"
   ]
  },
  {
   "cell_type": "code",
   "execution_count": null,
   "metadata": {},
   "outputs": [],
   "source": [
    "fig, axarr = plt.subplots(2,2, figsize=(14,11))\n",
    "plt.suptitle('N=32 exponentially accurate piecewise mollification', fontsize=15)\n",
    "axarr[0,0].plot(x, chi1_x, label='original')\n",
    "axarr[0,0].plot(x, mollified1_32, 'r',  label='mollified reconstruction')\n",
    "axarr[0,1].plot(x, chi2_x, label='original')\n",
    "axarr[0,1].plot(x, mollified2_32, 'r', label='mollified reconstruction')\n",
    "axarr[1,0].semilogy(x, error1_32)\n",
    "axarr[1,1].semilogy(x, error2_32)\n",
    "axarr[0,0].set_title('Real space reconstruction')\n",
    "axarr[0,1].set_title('Real space reconstruction')\n",
    "axarr[1,0].set_title('Error')\n",
    "axarr[1,1].set_title('Error')\n",
    "axarr[0,0].legend(), axarr[0,1].legend()"
   ]
  },
  {
   "cell_type": "markdown",
   "metadata": {},
   "source": [
    "# N=64 piecewise mollification"
   ]
  },
  {
   "cell_type": "code",
   "execution_count": null,
   "metadata": {
    "collapsed": true
   },
   "outputs": [],
   "source": [
    "N = 64\n",
    "x = np.linspace(-1.0, 1.0, 2001)\n",
    "c2s64, s2c64 = Vandermonde(N)\n",
    "modalD64 = ModalD(c2s64)\n",
    "\n",
    "step_loc1 = -0.4\n",
    "width1 = 1.0\n",
    "chi1 = lambda x: 1.0 if (x>=step_loc1 and x<=(step_loc1+width1)) else 0\n",
    "a_n164 = Decompose(chi1, c2s64)\n",
    "I_N164 = T.chebval(x, a_n164)\n",
    "c_j164 = LocateEdges(a_n164, x, modalD64)\n",
    "chi1_x64 = np.frompyfunc(chi1, 1, 1)(x)\n",
    "\n",
    "step_loc2 = 0.5\n",
    "width2 = 1.0\n",
    "chi2 = lambda x: 1.0 if (x>=step_loc2 and x<=(step_loc2+width2)) else 0\n",
    "a_n264 = Decompose(chi2, c2s64)\n",
    "I_N264 = T.chebval(x, a_n264)\n",
    "c_j264 = LocateEdges(a_n264, x, modalD64)\n",
    "chi2_x64 = np.frompyfunc(chi2, 1, 1)(x)"
   ]
  },
  {
   "cell_type": "code",
   "execution_count": null,
   "metadata": {},
   "outputs": [],
   "source": [
    "mollified1_64, mollified1_err_64 = MollifyQuad(theta, c_j164, a_n164, x)\n",
    "mollified2_64, mollified1_err_64 = MollifyQuad(theta, c_j264, a_n264, x)\n",
    "error1_64 = absolute(mollified1_64 - chi1_x)\n",
    "error2_64 = absolute(mollified2_64 - chi2_x)"
   ]
  },
  {
   "cell_type": "code",
   "execution_count": null,
   "metadata": {},
   "outputs": [],
   "source": [
    "fig, axarr = plt.subplots(2,2, figsize=(14,11))\n",
    "plt.suptitle('N=64 exponentially accurate piecewise mollification', fontsize=15)\n",
    "axarr[0,0].plot(x, chi1_x, label='original')\n",
    "axarr[0,0].plot(x, mollified1_64, 'r',  label='mollified reconstruction')\n",
    "axarr[0,1].plot(x, chi2_x, label='original')\n",
    "axarr[0,1].plot(x, mollified2_64, 'r', label='mollified reconstruction')\n",
    "axarr[1,0].semilogy(x, error1_64)\n",
    "axarr[1,1].semilogy(x, error2_64)\n",
    "axarr[0,0].set_title('Real space reconstruction')\n",
    "axarr[0,1].set_title('Real space reconstruction')\n",
    "axarr[1,0].set_title('Error')\n",
    "axarr[1,1].set_title('Error')\n",
    "axarr[0,0].legend(), axarr[0,1].legend()"
   ]
  },
  {
   "cell_type": "markdown",
   "metadata": {},
   "source": [
    "# N - dependence"
   ]
  },
  {
   "cell_type": "code",
   "execution_count": null,
   "metadata": {
    "collapsed": true
   },
   "outputs": [],
   "source": [
    "N_val = np.logspace(4, 7, num=4, endpoint=True, base=2)\n",
    "err_N2 = np.empty((2*len(N_val), len(x)))\n",
    "repr_N2 = np.empty((2*len(N_val), len(x)))\n",
    "\n",
    "for idx, N in enumerate(N_val):\n",
    "    c2s_n, s2c_n = Vandermonde(int(N))\n",
    "    modalD_n = ModalD(c2s_n)\n",
    "    a_n1_n = Decompose(chi1, c2s_n)\n",
    "    I_N1_n = T.chebval(x, a_n1_n)\n",
    "    c_j1_n = LocateEdges(a_n1_n, x, modalD_n)\n",
    "    \n",
    "    a_n2_n = Decompose(chi2, c2s_n)\n",
    "    I_N2_n = T.chebval(x, a_n2_n)\n",
    "    c_j2_n = LocateEdges(a_n2_n, x, modalD_n)\n",
    "    \n",
    "    repr_N2[2*idx,:], mollify_err1 = MollifyQuad(theta, c_j1_n, a_n1_n, x)\n",
    "    repr_N2[(2*idx)+1,:], mollify_err2 = MollifyQuad(theta, c_j2_n, a_n2_n, x)\n",
    "    \n",
    "    err_N2[2*idx,:] = absolute(repr_N2[2*idx,:] - chi1_x)\n",
    "    err_N2[(2*idx)+1,:] = absolute(repr_N2[(2*idx)+1,:] - chi2_x)"
   ]
  },
  {
   "cell_type": "code",
   "execution_count": null,
   "metadata": {},
   "outputs": [],
   "source": [
    "fig, axarr = plt.subplots(1,2, figsize=(14,7))\n",
    "plt.suptitle('Exponentially accurate piecewise mollification', fontsize=15)\n",
    "axarr[0].semilogy(x, err_N2[0,:], label='N=16'), axarr[1].semilogy(x, err_N2[1,:], label='N=16')\n",
    "axarr[0].semilogy(x, err_N2[2,:], label='N=32'), axarr[1].semilogy(x, err_N2[3,:], label='N=32')\n",
    "axarr[0].semilogy(x, err_N2[4,:], label='N=64'), axarr[1].semilogy(x, err_N2[5,:], label='N=64')\n",
    "axarr[0].semilogy(x, err_N2[6,:], label='N=128'), axarr[1].semilogy(x, err_N2[7,:], label='N=128')\n",
    "axarr[0].legend(loc='upper left'), axarr[1].legend(loc='upper left')"
   ]
  },
  {
   "cell_type": "code",
   "execution_count": null,
   "metadata": {},
   "outputs": [],
   "source": [
    "plt.plot(x, repr_N2[-2,:])\n",
    "plt.plot(x, chi1_x)"
   ]
  },
  {
   "cell_type": "markdown",
   "metadata": {},
   "source": [
    "# Theta-dependence for N=64"
   ]
  },
  {
   "cell_type": "code",
   "execution_count": null,
   "metadata": {},
   "outputs": [],
   "source": [
    "theta_val = np.array([0.1, 0.25, 0.5, 0.7])\n",
    "repr_theta = np.empty((2*len(theta_val), len(x)))\n",
    "err_theta = np.empty((2*len(theta_val), len(x)))\n",
    "\n",
    "for idx, theta in enumerate(theta_val):\n",
    "    \n",
    "    repr_theta[2*idx,:], mollify_err1 = MollifyQuad(theta, c_j164, a_n164, x)\n",
    "    repr_theta[(2*idx)+1,:], mollify_err2 = MollifyQuad(theta, c_j264, a_n264, x)\n",
    "    \n",
    "    err_theta[2*idx,:] = absolute(repr_theta[2*idx,:] - chi1_x)\n",
    "    err_theta[(2*idx)+1,:] = absolute(repr_theta[(2*idx)+1,:] - chi2_x)\n",
    "    "
   ]
  },
  {
   "cell_type": "code",
   "execution_count": null,
   "metadata": {},
   "outputs": [],
   "source": [
    "fig, axarr = plt.subplots(1,2, figsize=(14,7))\n",
    "plt.suptitle('Exponentially accurate piecewise mollification', fontsize=15)\n",
    "axarr[0].semilogy(x, err_theta[0,:], label='theta=0.10'), axarr[1].semilogy(x, err_theta[1,:], label='theta=0.1')\n",
    "axarr[0].semilogy(x, err_theta[2,:], label='theta=0.25'), axarr[1].semilogy(x, err_theta[3,:], label='theta=0.25')\n",
    "axarr[0].semilogy(x, err_theta[4,:], label='theta=0.50'), axarr[1].semilogy(x, err_theta[5,:], label='theta=0.50')\n",
    "axarr[0].semilogy(x, err_theta[6,:], label='theta=0.70'), axarr[1].semilogy(x, err_theta[7,:], label='theta=0.70')\n",
    "axarr[0].legend(loc='upper left'), axarr[1].legend(loc='upper left')"
   ]
  },
  {
   "cell_type": "code",
   "execution_count": null,
   "metadata": {
    "collapsed": true
   },
   "outputs": [],
   "source": [
    "def ChoppedMollifiers(theta, c_j, a_n, x):\n",
    "    \n",
    "    fig, ax = plt.subplots(figsize=(14,6))\n",
    "    plt.title('N=32 chopped mollifiers illustration')\n",
    "    plt.xlim(-1.05,1.05)\n",
    "    plt.ylim(0, 25)\n",
    "    N = a_n.shape[0]-1\n",
    "    x_set = np.linspace(-1.0, 1.0, 25)\n",
    "    colors = np.array(['b', 'r', 'g', 'm'], dtype='str')\n",
    "\n",
    "    \n",
    "    I_N = lambda y: T.chebval(y, a_n)\n",
    "    chi_top = lambda y,f : f(y) if -1 <= y <= 1 else 0\n",
    "    I_N_top = lambda y: chi_top(y, I_N)\n",
    "    c_jplus = np.append(c_j, 1.0)\n",
    "    plt.axvline(x=-1.0, c='k', lw=1.2, ls='--', label='subdomain boundaries')\n",
    "    plt.legend()\n",
    "    \n",
    "    for idx_c, pos in enumerate(c_jplus):\n",
    "        \n",
    "        plt.axvline(x=pos, c='k', lw=1.2, ls='--')\n",
    "        \n",
    "        if idx_c == 0:\n",
    "            \n",
    "            lim_left = -1.0\n",
    "            lim_right = pos\n",
    "            \n",
    "            offset = np.ma.masked_where(x_set > lim_right, x_set)\n",
    "            offset = np.ma.compressed(offset)\n",
    "\n",
    "        else:\n",
    "            \n",
    "            lim_left = c_jplus[idx_c-1]\n",
    "            lim_right = pos\n",
    "            \n",
    "            offset = np.ma.masked_where(x_set > lim_right, x_set)\n",
    "            offset = np.ma.masked_where(x_set <= lim_left, offset)\n",
    "            offset = np.ma.compressed(offset)\n",
    "        \n",
    "        col = colors[idx_c]\n",
    "\n",
    "        chi_cut = lambda y,f : f(y) if lim_left <= y <= lim_right else 0\n",
    "\n",
    "        for idx_o, off_x in enumerate(offset):\n",
    "            c_jx = c_j - off_x\n",
    "            dx = lambda y: sqrt(theta*N*min(abs(y-c) for c in c_jx))\n",
    "            var = lambda y: N/(2*theta*dx(y))\n",
    "            p_N = lambda y: (theta**2)*dx(y)*N\n",
    "            j_max = int(np.amax(np.frompyfunc(p_N,1,1)(x)))\n",
    "            h_j = np.zeros(2*(j_max+1))\n",
    "    \n",
    "            for j in range(j_max+1):\n",
    "                h_j[2*j] = ((-1)**j)/((4**j)*factorial(j))\n",
    "    \n",
    "            hermite = lambda y: H.hermeval(sqrt(var(y))*y, h_j)\n",
    "            expon = lambda y: (1./sqrt(theta*N*dx(y)))*exp(-var(y)*(y**2))\n",
    "            phi0 = lambda y: hermite(y)*expon(y)\n",
    "            phi_off = lambda y: phi0(y-off_x)\n",
    "            phi = lambda y: chi_cut(y, phi_off)\n",
    "            norm = quad(phi, lim_left, lim_right)[0]\n",
    "\n",
    "            plt.plot(x, np.frompyfunc(phi, 1, 1)(x)/norm, c=col)\n"
   ]
  },
  {
   "cell_type": "code",
   "execution_count": null,
   "metadata": {},
   "outputs": [],
   "source": [
    "theta = 1./4.\n",
    "ChoppedMollifiers(theta, c_j1, a_n1, x)"
   ]
  },
  {
   "cell_type": "code",
   "execution_count": null,
   "metadata": {
    "collapsed": true
   },
   "outputs": [],
   "source": [
    "err_x0 = np.empty((len(N_val), 2))\n",
    "for idx, N in enumerate(N_val):\n",
    "    err_x0[idx, 0] = err_N2[2*idx, 1000]\n",
    "    err_x0[idx, 1] = err_N2[2*idx + 1, 1000]"
   ]
  },
  {
   "cell_type": "code",
   "execution_count": null,
   "metadata": {},
   "outputs": [],
   "source": [
    "fig, (ax1, ax2) = plt.subplots(1,2, figsize=(14,6))\n",
    "plt.suptitle('Error at x=0.0 vs N', fontsize=15)\n",
    "ax1.semilogy(N_val, err_x0[:,0], 'o-')\n",
    "ax2.semilogy(N_val, err_x0[:,1], 'o-')\n",
    "ax1.set_xlabel('N'), ax1.set_ylabel('Error')\n",
    "ax2.set_xlabel('N'), ax2.set_ylabel('Error')\n",
    "ax1.set_title('Closest edge: 0.4 & 0.6 away')\n",
    "ax2.set_title('Closest edge: 0.5 away')"
   ]
  },
  {
   "cell_type": "code",
   "execution_count": null,
   "metadata": {
    "collapsed": true
   },
   "outputs": [],
   "source": []
  }
 ],
 "metadata": {
  "kernelspec": {
   "display_name": "Python 2",
   "language": "python",
   "name": "python2"
  },
  "language_info": {
   "codemirror_mode": {
    "name": "ipython",
    "version": 2
   },
   "file_extension": ".py",
   "mimetype": "text/x-python",
   "name": "python",
   "nbconvert_exporter": "python",
   "pygments_lexer": "ipython2",
   "version": "2.7.11"
  }
 },
 "nbformat": 4,
 "nbformat_minor": 1
}
