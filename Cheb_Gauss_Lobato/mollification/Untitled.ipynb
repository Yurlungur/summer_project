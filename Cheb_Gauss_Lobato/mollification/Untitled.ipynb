{
 "cells": [
  {
   "cell_type": "code",
   "execution_count": 1,
   "metadata": {
    "collapsed": true
   },
   "outputs": [],
   "source": [
    "from __future__ import print_function\n",
    "\n",
    "import os, sys\n",
    "import numpy as np\n",
    "import scipy as sp\n",
    "from numpy import sin, cos, exp, log, log10, pi, absolute, power, sqrt\n",
    "from numpy.polynomial import chebyshev as T\n",
    "from numpy.polynomial import hermite_e as H\n",
    "from scipy.integrate import quad\n",
    "from scipy.misc import factorial\n",
    "import matplotlib as mpl\n",
    "import matplotlib.pyplot as plt\n",
    "%matplotlib inline\n",
    "from spectral_tools import Decompose, ModalD, NodalD, Vandermonde\n",
    "from edgedetect import ChebEdgeIII, ConfigurePlots, Enhance, LocateEdges, MinMod\n",
    "from mollification import PiecewiseMollify"
   ]
  },
  {
   "cell_type": "code",
   "execution_count": 28,
   "metadata": {
    "collapsed": true
   },
   "outputs": [],
   "source": [
    "N = 128\n",
    "x = np.linspace(-1.0, 1.0, 2001)\n",
    "c2s, s2c = Vandermonde(N)\n",
    "modalD = ModalD(c2s)"
   ]
  },
  {
   "cell_type": "code",
   "execution_count": 29,
   "metadata": {},
   "outputs": [
    {
     "name": "stderr",
     "output_type": "stream",
     "text": [
      "/Users/asiamacbook/anaconda/lib/python2.7/site-packages/scipy/optimize/minpack.py:690: OptimizeWarning: Covariance of the parameters could not be estimated\n",
      "  category=OptimizeWarning)\n"
     ]
    }
   ],
   "source": [
    "step_loc1 = -0.001\n",
    "width1 = 1.0\n",
    "chi1 = lambda x: 1.0 if (x>=step_loc1 and x<=(step_loc1+width1)) else 0\n",
    "a_n1 = Decompose(chi1, c2s)\n",
    "I_N1 = T.chebval(x, a_n1)\n",
    "c_j1 = LocateEdges(a_n1, x, modalD)\n",
    "chi1_x = np.frompyfunc(chi1, 1, 1)(x)"
   ]
  },
  {
   "cell_type": "code",
   "execution_count": 30,
   "metadata": {},
   "outputs": [
    {
     "name": "stdout",
     "output_type": "stream",
     "text": [
      "[-0.01249537  0.9989696 ]\n"
     ]
    }
   ],
   "source": [
    "print(c_j1)"
   ]
  },
  {
   "cell_type": "code",
   "execution_count": 33,
   "metadata": {},
   "outputs": [
    {
     "name": "stderr",
     "output_type": "stream",
     "text": [
      "/Users/asiamacbook/anaconda/lib/python2.7/site-packages/scipy/integrate/quadpack.py:357: IntegrationWarning: The algorithm does not converge.  Roundoff error is detected\n",
      "  in the extrapolation table.  It is assumed that the requested tolerance\n",
      "  cannot be achieved, and that the returned result (if full_output = 1) is \n",
      "  the best which can be obtained.\n",
      "  warnings.warn(msg, IntegrationWarning)\n"
     ]
    }
   ],
   "source": [
    "theta = 1./4.\n",
    "mollified1, mollified1_err = PiecewiseMollify(theta, c_j1, a_n1, x)"
   ]
  },
  {
   "cell_type": "code",
   "execution_count": 35,
   "metadata": {},
   "outputs": [
    {
     "data": {
      "text/plain": [
       "[<matplotlib.lines.Line2D at 0x113b6cc10>]"
      ]
     },
     "execution_count": 35,
     "metadata": {},
     "output_type": "execute_result"
    },
    {
     "data": {
      "image/png": "[encoded data removed]",
      "text/plain": [
       "<matplotlib.figure.Figure at 0x113b6ccd0>"
      ]
     },
     "metadata": {},
     "output_type": "display_data"
    }
   ],
   "source": [
    "ConfigurePlots()\n",
    "plt.xlim(-1.2, 1.2)\n",
    "plt.plot(x, mollified1, label='mollified')"
   ]
  },
  {
   "cell_type": "code",
   "execution_count": null,
   "metadata": {
    "collapsed": true
   },
   "outputs": [],
   "source": []
  }
 ],
 "metadata": {
  "kernelspec": {
   "display_name": "Python 2",
   "language": "python",
   "name": "python2"
  },
  "language_info": {
   "codemirror_mode": {
    "name": "ipython",
    "version": 2
   },
   "file_extension": ".py",
   "mimetype": "text/x-python",
   "name": "python",
   "nbconvert_exporter": "python",
   "pygments_lexer": "ipython2",
   "version": "2.7.11"
  }
 },
 "nbformat": 4,
 "nbformat_minor": 1
}
